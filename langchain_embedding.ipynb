{
 "cells": [
  {
   "cell_type": "code",
   "execution_count": 3,
   "metadata": {},
   "outputs": [],
   "source": [
    "import configparser\n",
    "\n",
    "# Read the configuration file\n",
    "config = configparser.ConfigParser()\n",
    "config.read('config.ini')\n",
    "\n",
    "# Access the API token from the configuration file\n",
    "huggingfacehub_api_token = config.get('huggingface', 'api_token')\n",
    "# Set your API Key from OpenAI\n",
    "openai_api_key = config.get('openai', 'api_key')\n"
   ]
  },
  {
   "cell_type": "code",
   "execution_count": 6,
   "metadata": {},
   "outputs": [
    {
     "name": "stdout",
     "output_type": "stream",
     "text": [
      "<class 'list'>\n",
      "[Document(page_content='MANIFESTO OF SURREALISM BY ANDRÉ BRETON (1924)\\u2029 \\nMain Author is Andre  Breton. \\nSo strong is the belief in life, in what is most fragile in life – real life, I mean – that in the end this belief\\nis lost. Man, that inveterate dreamer, daily more discontent with his destiny, has trouble assessing the\\nobjects he has been led to use, objects that his nonchalance has brought his way, or that he has earned\\nthrough his own efforts, almost always through his own efforts, for he has agreed to work, at least he has\\nnot refused to try his luck (or what he calls his luck!). At this point he feels extremely modest: he knows\\nwhat women he has had, what silly affairs he has been involved in; he is unimpressed by his wealth or his\\npoverty, in this respect he is still a newborn babe and, as for the approval of his conscience, I confess that\\nhe does very nicely without it. If he still retains a certain lucidity, all he can do is turn back toward his\\nchildhood which, however his guides and mentors may have botched it, still strikes him as somehow\\ncharming. There, the absence of any known restrictions allows him the perspective of several lives lived\\nat once; this illusion becomes firmly rooted within him; now he is only interested in the fleeting, the\\nextreme facility of everything. Children set off each day without a worry in the world. Everything is near\\nat hand, the worst material conditions are fine. The woods are white or black, one will never sleep.\\n But it is true that we would not dare venture so far, it is not merely a question of distance. Threat\\nis piled upon threat, one yields, abandons a portion of the terrain to be conquered. This imagination which\\nknows no bounds is henceforth allowed to be exercised only in strict accordance with the laws of an\\narbitrary utility; it is incapable of assuming this inferior role for very long and, in the vicinity of the\\ntwentieth year, generally prefers to abandon man to his lusterless fate.\\n Though he may later try to pull himself together on occasion, having felt that he is losing by slow\\ndegrees all reason for living, incapable as he has become of being able to rise to some exceptional\\nsituation such as love, he will hardly succeed. This is because he henceforth belongs body and soul to an\\nimperative practical necessity which demands his constant attention. None of his gestures will be\\nexpansive, none of his ideas generous or far-reaching. In his mind’s eye, events real or imagined will be\\nseen only as they relate to a welter of similar events, events in which he has not participated, abortive\\nevents. What am I saying: he will judge them in relationship to one of these events whose consequences\\nare more reassuring than the others. On no account will he view them as his salvation.\\n Beloved imagination, what I most like in you is your unsparing quality.\\n There remains madness, \"the madness that one locks up,\" as it has aptly been described. That\\nmadness or another…. We all know, in fact, that the insane owe their incarceration to a tiny number of\\nlegally reprehensible acts and that, were it not for these acts their freedom (or what we see as their\\nfreedom) would not be threatened. I am willing to admit that they are, to some degree, victims of their\\nimagination, in that it induces them not to pay attention to certain rules – outside of which the species\\nfeels threatened – which we are all supposed to know and respect. But their profound indifference to the\\nway in which we judge them, and even to the various punishments meted out to them, allows us to\\nsuppose that they derive a great deal of comfort and consolation from their imagination, that they enjoy\\ntheir madness sufficiently to endure the thought that its validity does not extend beyond themselves. And,\\nindeed, hallucinations, illusions, etc., are not a source of trifling pleasure. [...]\\n The case against the realistic attitude demands to be examined, following the case against the\\nmaterialistic attitude. The latter, more poetic in fact than the former, admittedly implies on the part of man\\na kind of monstrous pride which, admittedly, is monstrous, but not a new and more complete decay. It\\nshould above all be viewed as a welcome reaction against certain ridiculous tendencies of spiritualism.\\nFinally, it is not incompatible with a certain nobility of thought.\\n By contrast, the realistic attitude, inspired by positivism, from Saint Thomas Aquinas to Anatole\\nFrance, clearly seems to me to be hostile to any intellectual or moral advancement. I loathe it, for it is\\nmade up of mediocrity, hate, and dull conceit. It is this attitude which today gives birth to these ridiculous', metadata={'source': 'database/MANIFESTO_OF_SURREALISM.pdf', 'page': 0}), Document(page_content='books, these insulting plays. It constantly feeds on and derives strength from the newspapers and stultifies both science and art by assiduously flattering the lowest of tastes; clarity bordering on stupidity, a dog’s life. The activity of the best minds feels the effects of it; the law of the lowest common denominator finally prevails upon them as it does upon the others. [. . .]   We are still living under the reign of logic: this, of course, is what I have been driving at. But in this day and age logical methods are applicable only to solving problems of secondary interest. The absolute rationalism that is still in vogue allows us to consider only facts relating directly to our experience. Logical ends, on the contrary, escape us. It is pointless to add that experience itself has found itself increasingly circumscribed. It paces back and forth in a cage from which it is more and more difficult to make it emerge. It too leans for support on what is most immediately expedient, and it is protected by the sentinels of common sense. Under the pretense of civilization and progress, we have managed to banish from the mind everything that may rightly or wrongly be termed superstition, or fancy; forbidden is any kind of search for truth which is not in conformance with accepted practices. It was, apparently, by pure chance that a part of our mental world which we pretended not to be concerned with any longer -- and, in my opinion by far the most important part -- has been brought back to light. For this we must give thanks to the discoveries of Sigmund Freud. On the basis of these discoveries a current of opinion is finally forming by means of which the human explorer will be able to carry his investigation much further, authorized as he will henceforth be not to confine himself solely to the most summary realities. The imagination is perhaps on the point of reasserting itself, of reclaiming its rights. If the depths of our mind contain within it strange forces capable of augmenting those on the surface, or of waging a victorious battle against them, there is every reason to seize them -- first to seize them, then, if need be, to submit them to the control of our reason. The analysts themselves have everything to gain by it. But it is worth noting that no means has been designated a priori for carrying out this undertaking, that until further notice it can be construed to be the province of poets as well as scholars, and that its success is not dependent upon the more or less capricious paths that will be followed.     Freud very rightly brought his critical faculties to bear upon the dream. It is, in fact, inadmissible that this considerable portion of psychic activity (since, at least from man\\'s birth until his death, thought offers no solution of continuity, the sum of the moments of the dream, from the point of view of time, and taking into consideration only the time of pure dreaming, that is the dreams of sleep, is not inferior to the sum of the moments of reality, or, to be more precisely limiting, the moments of waking) has still today been so grossly neglected. I have always been amazed at the way an ordinary observer lends so much more credence and attaches so much more importance to waking events than to those occurring in dreams. It is because man, when he ceases to sleep, is above all the plaything of his memory, and in its normal state memory takes pleasure in weakly retracing for him the circumstances of the dream, in stripping it of any real importance, and in dismissing the only determinant from the point where he thinks he has left it a few hours before: this firm hope, this concern. He is under the impression of continuing something that is worthwhile. Thus the dream finds itself reduced to a mere parenthesis, as is the night. And, like the night, dreams generally contribute little to furthering our understanding. This curious state of affairs seems to me to call for certain reflections:  1) Within the limits where they operate (or are thought to operate) dreams give every evidence of being continuous and show signs of organization. Memory alone arrogates to itself the right to excerpt from dreams, to ignore the transitions, and to depict for us rather a series of dreams than the dream itself. By the same token, at any given moment we have only a distinct notion of realities, the coordination of which is a question of will.* (Account must be taken of the depth of the dream. For the most part I retain only what I can glean from its most superficial layers. What I most enjoy contemplating about a dream is everything that sinks back below the surface in a waking state, everything I have forgotten about my activities in the course of the preceding day, dark foliage, stupid branches. In \"reality,\" likewise, I prefer to fall.) What is worth noting is that nothing allows us to presuppose a greater dissipation of the elements of which the dream is constituted. I am sorry to have to speak about it according to a formula which in principle excludes the dream. When will we have sleeping logicians, sleeping philosophers? I would like ', metadata={'source': 'database/MANIFESTO_OF_SURREALISM.pdf', 'page': 1}), Document(page_content='to sleep, in order to surrender myself to the dreamers, the way I surrender myself to those who read me with eyes wide open; in order to stop imposing, in this realm, the conscious rhythm of my thought. Perhaps my dream last night follows that of the night before, and will be continued the next night, with an exemplary strictness. It\\'s quite possible, as the saying goes. And since it has not been proved in the slightest that, in doing so, the \"reality\" with which I am kept busy continues to exist in the state of dream, that it does not sink back down into the immemorial, why should I not grant to dreams what I occasionally refuse reality, that is, this value of certainty in itself which, in its own time, is not open to my repudiation? Why should I not expect from the sign of the dream more than I expect from a degree of consciousness which is daily more acute? Can\\'t the dream also be used in solving the fundamental questions of life? Are these questions the same in one case as in the other and, in the dream, do these questions already exist? Is the dream any less restrictive or punitive than the rest? I am growing old and, more than that reality to which I believe I subject myself, it is perhaps the dream, the difference with which I treat the dream, which makes me grow old.  2) Let me come back again to the waking state. I have no choice but to consider it a phenomenon of interference. Not only does the mind display, in this state, a strange tendency to lose its bearings (as evidenced by the slips and mistakes the secrets of which are just beginning to be revealed to us), but, what is more, it does not appear that, when the mind is functioning normally, it really responds to anything but the suggestions which come to it from the depths of that dark night to which I commend it. However conditioned it may be, its balance is relative. It scarcely dares express itself and, if it does, it confines itself to verifying that such and such an idea, or such and such a woman, has made an impression on it. What impression it would be hard pressed to say, by which it reveals the degree of its subjectivity, and nothing more. This idea, this woman, disturb it, they tend to make it less severe. What they do is isolate the mind for a second from its solvent and spirit it to heaven, as the beautiful precipitate it can be, that it is. When all else fails, it then calls upon chance, a divinity even more obscure than the others to whom it ascribes all its aberrations. Who can say to me that the angle by which that idea which affects it is offered, that what it likes in the eye of that woman is not precisely what links it to its dream, binds it to those fundamental facts which, through its own fault, it has lost? And if things were different, what might it be capable of? I would like to provide it with the key to this corridor.  3) The mind of the man who dreams is fully satisfied by what happens to him. The agonizing question of possibility is no longer pertinent. Kill, fly faster, love to your heart\\'s content. And if you should die, are you not certain of reawaking among the dead? Let yourself be carried along, events will not tolerate your interference. You are nameless. The ease of everything is priceless.   What reason, I ask, a reason so much vaster than the other, makes dreams seem so natural and allows me to welcome unreservedly a welter of episodes so strange that they could confound me now as I write? And yet I can believe my eyes, my ears; this great day has arrived, this beast has spoken. If man\\'s awaking is harder, if it breaks the spell too abruptly, it is because he has been led to make for himself too impoverished a notion of atonement.  4) From the moment when it is subjected to a methodical examination, when, by means yet to be determined, we succeed in recording the contents of dreams in their entirety (and that presupposes a discipline of memory spanning generations; but let us nonetheless begin by noting the most salient facts), when its graph will expand with unparalleled volume and regularity, we may hope that the mysteries which really are not will give way to the great Mystery. I believe in the future resolution of these two states, dream and reality, which are seemingly so contradictory, into a kind of absolute reality, a surreality, if one may so speak. It is in quest of this surreality that I am going, certain not to find it but too unmindful of my death not to calculate to some slight degree the joys of its possession.   A story is told according to which Saint-Pol-Roux, in times gone by, used to have a notice posted on the door of his manor house in Camaret, every evening before he went to sleep, which read: THE POET IS WORKING.  A great deal more could be said, but in passing I merely wanted to touch upon a subject which in itself would require a very long and much more detailed discussion; I shall come back to it. At this juncture, my intention was merely to mark a point by noting the hate of the marvelous which rages in ', metadata={'source': 'database/MANIFESTO_OF_SURREALISM.pdf', 'page': 2}), Document(page_content='certain men, this absurdity beneath which they try to bury it. Let us not mince words: the marvelous is always beautiful, anything marvelous is beautiful, in fact only the marvelous is beautiful. [. . .]       One evening, therefore, before I fell asleep, I perceived, so clearly articulated that it was impossible to change a word, but nonetheless removed from the sound of any voice, a rather strange phrase which came to me without any apparent relationship to the events in which, my consciousness agrees, I was then involved, a phrase which seemed to me insistent, a phrase, if I may be so bold, which was knocking at the window. I took cursory note of it and prepared to move on when its organic character caught my attention. Actually, this phrase astonished me: unfortunately I cannot remember it exactly, but it was something like: \"There is a man cut in two by the window,\" but there could be no question of ambiguity, accompanied as it was by the faint visual image* (Were I a painter, this visual depiction would doubtless have become more important for me than the other. It was most certainly my previous predispositions which decided the matter. Since that day, I have had occasion to concentrate my attention voluntarily on similar apparitions, and I know they are fully as clear as auditory phenomena. With a pencil and white sheet of paper to hand, I could easily trace their outlines. Here again it is not a matter of drawing, but simply of tracing. I could thus depict a tree, a wave, a musical instrument, all manner of things of which I am presently incapable of providing even the roughest sketch. I would plunge into it, convinced that I would find my way again, in a maze of lines which at first glance would seem to be going nowhere. And, upon opening my eyes, I would get the very strong impression of something \"never seen.\" The proof of what I am saying has been provided many times by Robert Desnos: to be convinced, one has only to leaf through the pages of issue number 36 of Feuilles libres which contains several of his drawings (Romeo and Juliet, A Man Died This Morning, etc.) which were taken by this magazine as the drawings of a madman and published as such.) of a man walking cut half way up by a window perpendicular to the axis of his body. Beyond the slightest shadow of a doubt, what I saw was the simple reconstruction in space of a man leaning out a window. But this window having shifted with the man, I realized that I was dealing with an image of a fairly rare sort, and all I could think of was to incorporate it into my material for poetic construction. No sooner had I granted it this capacity than it was in fact succeeded by a whole series of phrases, with only brief pauses between them, which surprised me only slightly less and left me with the impression of their being so gratuitous that the control I had then exercised upon myself seemed to me illusory and all I could think of was putting an end to the interminable quarrel raging within me. [. . .]  Completely occupied as I still was with Freud at that time, and familiar as I was with his methods of examination which I had some slight occasion to use on some patients during the war, I resolved to obtain from myself what we were trying to obtain from them, namely, a monologue spoken as rapidly as possible without any intervention on the part of the critical faculties, a monologue consequently unencumbered by the slightest inhibition and which was, as closely as possible, akin to spoken thought. It had seemed to me, and still does -- the way in which the phrase about the man cut in two had come to me is an indication of it -- that the speed of thought is no greater than the speed of speech, and that thought does not necessarily defy language, nor even the fast-moving pen. It was in this frame of mind that Philippe Soupault -- to whom I had confided these initial conclusions – and I decided to blacken some paper, with a praiseworthy disdain for what might result from a literary point of view. The ease of execution did the rest. By the end of the first day we were able to read to ourselves some fifty or so pages obtained in this manner, and begin to compare our results. All in all, Soupault\\'s pages and mine proved to be remarkably similar: the same overconstruction, shortcomings of a similar nature, but also, on both our parts, the illusion of an extraordinary verve, a great deal of emotion, a considerable choice of images of a quality such that we would not have been capable of preparing a single one in longhand, a very special picturesque quality and, here and there, a strong comical effect. The only difference between our two texts seemed to me to derive essentially from our respective tempers. Soupault\\'s being less static than mine, and, if he does not mind my offering this one slight criticism, from the fact that he had made the error of putting a few words by way of titles at the top of certain pages, I suppose in a spirit of ', metadata={'source': 'database/MANIFESTO_OF_SURREALISM.pdf', 'page': 3}), Document(page_content='mystification. On the other hand, I must give credit where credit is due and say that he constantly and vigorously opposed any effort to retouch or correct, however slightly, any passage of this kind which seemed to me unfortunate. In this he was, to be sure, absolutely right.* (I believe more and more in the infallibility of my thought with respect to myself, and this is too fair. Nonetheless, with this thought-writing, where one is at the mercy of the first outside distraction, \"ebullutions\" can occur. It would be inexcusable for us to pretend otherwise. By definition, thought is strong, and incapable of catching itself in error. The blame for these obvious weaknesses must be placed on suggestions that come to it from without.) It is, in fact, difficult to appreciate fairly the various elements present: one may even go so far as to say that it is impossible to appreciate them at a first reading. To you who write, these elements are, on the surface, as strange to you as they are to anyone else, and naturally you are wary of them. Poetically speaking, what strikes you about them above all is their extreme degree of immediate absurdity, the quality of this absurdity, upon closer scrutiny, being to give way to everything admissible, everything legitimate in the world: the disclosure of a certain number of properties and of facts no less objective, in the final analysis, than the others.  In homage to Guillaume Apollinaire, who had just died and who, on several occasions, seemed to us to have followed a discipline of this kind, without however having sacrificed to it any mediocre literary means, Soupault and I baptized the new mode of pure expression which we had at our disposal and which we wished to pass on to our friends, by the name of SURREALISM.[. . .]   Those who might dispute our right to employ the term SURREALISM in the very special sense that we understand it are being extremely dishonest, for there can be no doubt that this word had no currency before we came along. Therefore, I am defining it once and for all:  SURREALISM, n. Psychic automatism in its pure state, by which one proposes to express -- verbally, by means of the written word, or in any other manner -- the actual functioning of thought. Dictated by the thought, in the absence of any control exercised by reason, exempt from any aesthetic or moral concern.  ENCYCLOPEDIA. Philosophy. Surrealism is based on the belief in the superior reality of certain forms of previously neglected associations, in the omnipotence of dream, in the disinterested play of thought. It tends to ruin once and for all all other psychic mechanisms and to substitute itself for them in solving all the principal problems of life. [. . .]  . . .The mind which plunges into Surrealism relives with glowing excitement the best part of its childhood. For such a mind, it is similar to the certainty with which a person who is drowning reviews once more, in the space of less than a second, all the insurmountable moments of his life. Some may say to me that the parallel is not very encouraging. But I have no intention of encouraging those who tell me that. From childhood memories, and from a few others, there emanates a sentiment of being unintegrated, and then later of having gone astray, which I hold to be the most fertile that exists. It is perhaps childhood that comes closest to one\\'s \"real life\"; childhood beyond which man has at his disposal, aside from his laissez-passer, only a few complimentary tickets; childhood where everything nevertheless conspires to bring about the effective, risk-free possession of oneself. Thanks to Surrealism, it seems that opportunity knocks a second time. It is as though we were still running toward our salvation, or our perdition. In the shadow we again see a precious terror. Thank God, it\\'s still only Purgatory. With a shudder, we cross what the occultists call dangerous territory. In my wake I raise up monsters that are lying in wait; they are not yet too ill-disposed toward me, and I am not lost, since I fear them. [. . .]   Surrealism, such as I conceive of it, asserts our complete nonconformism clearly enough so that there can be no question of translating it, at the trial of the real world, as evidence for the defense. It could, on the contrary, only serve to justify the complete state of distraction which we hope to achieve here below. Kant’s absentmindedness regarding women, Pasteur’s absentmindedness about \"grapes,\" Curie’s absentmindedness with respect to vehicles, are in this regard profoundly symptomatic. This world is only ', metadata={'source': 'database/MANIFESTO_OF_SURREALISM.pdf', 'page': 4}), Document(page_content='very relatively in tune with thought, and incidents of this kind are only the most obvious episodes of a\\nwar in which I am proud to be participating. Surrealism is the \"invisible ray\" which will one day enable us\\nto win out over our opponents. \"You are no longer trembling, carcass.\" This summer the roses are blue;\\nthe wood is of glass. The earth, draped in its verdant cloak, makes as little impression upon me as a ghost.\\nIt is living and ceasing to live which are imaginary solutions. Existence is elsewhere.\\nMain Author :André\\u2029Br eton.\\u2029Excerpt \\u2029from\\u2029the \\u2029First\\u2029Manifesto\\u2029of\\u2029Surrealism \\u2029in\\u2029Art\\u2029in\\u2029Theory\\u20291900\\xad1990:\\u2029\\nAn\\u2029Anthology\\u2029of\\u2029Changing\\u2029Ideas. Charles\\u2029Harrison\\u2029&\\u2029Paul\\u2029Wood,\\u2029eds.\\u2029(Oxford:\\u2029Blackwell\\u2029Publishers,\\u20291992),\\u2029pp.\\u202987‐88.', metadata={'source': 'database/MANIFESTO_OF_SURREALISM.pdf', 'page': 5})]\n",
      "<class 'list'>\n",
      "[Document(page_content='MANIFESTO OF SURREALISM BY ANDRÉ BRETON (1924)\\u2029 \\nMain Author is Andre  Breton. \\nSo strong is the belief in life, in what is most fragile in life – real life, I mean – that in the end this belief', metadata={'source': 'database/MANIFESTO_OF_SURREALISM.pdf', 'page': 0}), Document(page_content='is lost. Man, that inveterate dreamer, daily more discontent with his destiny, has trouble assessing the', metadata={'source': 'database/MANIFESTO_OF_SURREALISM.pdf', 'page': 0}), Document(page_content='objects he has been led to use, objects that his nonchalance has brought his way, or that he has earned', metadata={'source': 'database/MANIFESTO_OF_SURREALISM.pdf', 'page': 0}), Document(page_content='through his own efforts, almost always through his own efforts, for he has agreed to work, at least he has', metadata={'source': 'database/MANIFESTO_OF_SURREALISM.pdf', 'page': 0}), Document(page_content='not refused to try his luck (or what he calls his luck!). At this point he feels extremely modest: he knows', metadata={'source': 'database/MANIFESTO_OF_SURREALISM.pdf', 'page': 0})]\n"
     ]
    }
   ],
   "source": [
    "\n",
    "#load, split and vectorize and save locally a document using the langchain library (step by step)\n",
    "# Set your API Key from OpenAI\n",
    "from langchain_community.document_loaders import PyPDFLoader\n",
    "from langchain.text_splitter import RecursiveCharacterTextSplitter\n",
    "from langchain_openai import OpenAIEmbeddings\n",
    "from langchain_community.vectorstores import Chroma\n",
    "from langchain_openai import OpenAI\n",
    "import os\n",
    "\n",
    "\n",
    "\n",
    "#load the document \n",
    "loader = PyPDFLoader('database/MANIFESTO_OF_SURREALISM.pdf')\n",
    "data = loader.load()\n",
    "print(type(data))\n",
    "print(data)\n",
    "\n",
    "chunk_size = 200\n",
    "chunk_overlap = 50\n",
    "\n",
    "# Split the pdf into chunk using RecursiveCharacterTextSplitter\n",
    "splitter = RecursiveCharacterTextSplitter(\n",
    "    chunk_size=chunk_size, \n",
    "    chunk_overlap=chunk_overlap)\n",
    "docs = splitter.split_documents(data) \n",
    "print(type(docs))\n",
    "print(docs[:5])\n",
    "\n",
    "# Define an OpenAI embeddings model  and the target directory \n",
    "embedding_model = OpenAIEmbeddings(openai_api_key=openai_api_key)\n",
    "\n",
    "persist_directory = 'persist_directory'\n",
    "\n",
    "# Create the Chroma vector DB , using the OpenAI embedding function; persist the database to the directory\n",
    "vectordb = Chroma(    \n",
    "    persist_directory=persist_directory,    \n",
    "    embedding_function=embedding_model\n",
    "    )\n",
    "\n",
    "vectordb.persist()\n",
    "\n"
   ]
  },
  {
   "cell_type": "code",
   "execution_count": 52,
   "metadata": {},
   "outputs": [
    {
     "name": "stderr",
     "output_type": "stream",
     "text": [
      "Ignoring wrong pointing object 11 0 (offset 0)\n",
      "Ignoring wrong pointing object 35 0 (offset 0)\n"
     ]
    },
    {
     "name": "stdout",
     "output_type": "stream",
     "text": [
      "Answer:  They are being extremely dishonest.\n"
     ]
    }
   ],
   "source": [
    "# load, split and vectorize a document using the langchain library (all in one) and make a query on doucment content\n",
    "\n",
    "from langchain_community.document_loaders import PyPDFLoader\n",
    "from langchain.text_splitter import RecursiveCharacterTextSplitter\n",
    "from langchain_openai import OpenAIEmbeddings\n",
    "from langchain_community.vectorstores import Chroma\n",
    "from langchain.chains import RetrievalQA\n",
    "\n",
    "loader = PyPDFLoader('database/MANIFESTO_OF_SURREALISM.pdf')\n",
    "data = loader.load()\n",
    "splitter = RecursiveCharacterTextSplitter(\n",
    "    chunk_size=200,\n",
    "    chunk_overlap=50,\n",
    "    separators=['.'])\n",
    "docs = splitter.split_documents(data) \n",
    "\n",
    "# Embed the documents and store them in a Chroma DB\n",
    "embedding_model = OpenAIEmbeddings(openai_api_key=openai_api_key)\n",
    "docstorage = Chroma.from_documents(docs, embedding_model)\n",
    "\n",
    "\n",
    "# Define the Retrieval QA Chain to integrate the database and LLM\n",
    "qa = RetrievalQA.from_chain_type(\n",
    "    OpenAI(model_name=\"gpt-3.5-turbo-instruct\", temperature=0, openai_api_key=openai_api_key), chain_type='stuff', retriever=docstorage.as_retriever())\n",
    "\n",
    "# Run the chain on the query provided\n",
    "query = \"how are qualified the people that dispute Breton's right to employ the term 'surrealism' in the sense he understand it?\"\n",
    "result = qa.run(query)\n",
    "\n",
    "# Print the retrieved answer\n",
    "print(\"Answer:\", result)"
   ]
  },
  {
   "cell_type": "code",
   "execution_count": 54,
   "metadata": {},
   "outputs": [
    {
     "name": "stderr",
     "output_type": "stream",
     "text": [
      "Ignoring wrong pointing object 11 0 (offset 0)\n",
      "Ignoring wrong pointing object 35 0 (offset 0)\n"
     ]
    },
    {
     "name": "stdout",
     "output_type": "stream",
     "text": [
      "{'answer': \" The people who dispute Breton's right to employ the term 'surrealism' in the sense he understands it are being extremely dishonest.\\n\", 'sources': '../database/MANIFESTO_OF_SURREALISM.pdf'}\n"
     ]
    }
   ],
   "source": [
    "#same as above but on top display the source of the answer aka general model or new docs \n",
    "from langchain_community.document_loaders import PyPDFLoader\n",
    "from langchain.text_splitter import RecursiveCharacterTextSplitter\n",
    "from langchain_openai import OpenAIEmbeddings\n",
    "from langchain_community.vectorstores import Chroma\n",
    "from langchain.chains import RetrievalQA\n",
    "from langchain.chains import RetrievalQAWithSourcesChain\n",
    "\n",
    "\n",
    "loader = PyPDFLoader('database/MANIFESTO_OF_SURREALISM.pdf')\n",
    "data = loader.load()\n",
    "splitter = RecursiveCharacterTextSplitter(\n",
    "    chunk_size=200,\n",
    "    chunk_overlap=50,\n",
    "    separators=['.'])\n",
    "docs = splitter.split_documents(data) \n",
    "\n",
    "# Embed the documents and store them in a Chroma DB-\n",
    "embedding_model = OpenAIEmbeddings(openai_api_key=openai_api_key)\n",
    "docstorage = Chroma.from_documents(docs, embedding_model)\n",
    "\n",
    "\n",
    "# Define the Retrieval QA Chain to integrate the database and LLM\n",
    "qa = RetrievalQAWithSourcesChain.from_chain_type(\n",
    "    OpenAI(model_name=\"gpt-3.5-turbo-instruct\", temperature=0, openai_api_key=openai_api_key), chain_type='stuff', retriever=docstorage.as_retriever())\n",
    "\n",
    "# Run the chain on the query provided and get the source\n",
    "\n",
    "\n",
    "results = qa({\"question\": \"how are qualified the people that dispute Breton's right to employ the term 'surrealism' in the sense he understand it?\"}, return_only_outputs=True)\n",
    "print(results)"
   ]
  }
 ],
 "metadata": {
  "kernelspec": {
   "display_name": "base",
   "language": "python",
   "name": "python3"
  },
  "language_info": {
   "codemirror_mode": {
    "name": "ipython",
    "version": 3
   },
   "file_extension": ".py",
   "mimetype": "text/x-python",
   "name": "python",
   "nbconvert_exporter": "python",
   "pygments_lexer": "ipython3",
   "version": "3.11.7"
  }
 },
 "nbformat": 4,
 "nbformat_minor": 2
}
