{
 "cells": [
  {
   "cell_type": "code",
   "execution_count": 1,
   "metadata": {},
   "outputs": [],
   "source": [
    "import configparser\n",
    "\n",
    "# Read the configuration file\n",
    "config = configparser.ConfigParser()\n",
    "config.read('config.ini')\n",
    "\n",
    "# Access the API token from the configuration file\n",
    "huggingfacehub_api_token = config.get('huggingface', 'api_token')\n",
    "# Set your API Key from OpenAI\n",
    "openai_api_key = config.get('openai', 'api_key')"
   ]
  },
  {
   "cell_type": "code",
   "execution_count": 2,
   "metadata": {},
   "outputs": [
    {
     "name": "stderr",
     "output_type": "stream",
     "text": [
      "Ignoring wrong pointing object 11 0 (offset 0)\n",
      "Ignoring wrong pointing object 35 0 (offset 0)\n"
     ]
    },
    {
     "name": "stdout",
     "output_type": "stream",
     "text": [
      "page_content='MANIFESTO OF SURREALISM BY ANDRÉ BRETON (1924)\\u2029 So strong is the belief in life, in what is most fragile in life – real life, I mean – that in the end this belief is lost. Man, that inveterate dreamer, daily more discontent with his destiny, has trouble assessing the objects he has been led to use, objects that his nonchalance has brought his way, or that he has earned through his own efforts, almost always through his own efforts, for he has agreed to work, at least he has not refused to try his luck (or what he calls his luck!). At this point he feels extremely modest: he knows what women he has had, what silly affairs he has been involved in; he is unimpressed by his wealth or his poverty, in this respect he is still a newborn babe and, as for the approval of his conscience, I confess that he does very nicely without it. If he still retains a certain lucidity, all he can do is turn back toward his childhood which, however his guides and mentors may have botched it, still strikes him as somehow charming. There, the absence of any known restrictions allows him the perspective of several lives lived at once; this illusion becomes firmly rooted within him; now he is only interested in the fleeting, the extreme facility of everything. Children set off each day without a worry in the world. Everything is near at hand, the worst material conditions are fine. The woods are white or black, one will never sleep.  But it is true that we would not dare venture so far, it is not merely a question of distance. Threat is piled upon threat, one yields, abandons a portion of the terrain to be conquered. This imagination which knows no bounds is henceforth allowed to be exercised only in strict accordance with the laws of an arbitrary utility; it is incapable of assuming this inferior role for very long and, in the vicinity of the twentieth year, generally prefers to abandon man to his lusterless fate.   Though he may later try to pull himself together on occasion, having felt that he is losing by slow degrees all reason for living, incapable as he has become of being able to rise to some exceptional situation such as love, he will hardly succeed. This is because he henceforth belongs body and soul to an imperative practical necessity which demands his constant attention. None of his gestures will be expansive, none of his ideas generous or far-reaching. In his mind’s eye, events real or imagined will be seen only as they relate to a welter of similar events, events in which he has not participated, abortive events. What am I saying: he will judge them in relationship to one of these events whose consequences are more reassuring than the others. On no account will he view them as his salvation.   Beloved imagination, what I most like in you is your unsparing quality.  There remains madness, \"the madness that one locks up,\" as it has aptly been described. That madness or another…. We all know, in fact, that the insane owe their incarceration to a tiny number of legally reprehensible acts and that, were it not for these acts their freedom (or what we see as their freedom) would not be threatened. I am willing to admit that they are, to some degree, victims of their imagination, in that it induces them not to pay attention to certain rules – outside of which the species feels threatened – which we are all supposed to know and respect. But their profound indifference to the way in which we judge them, and even to the various punishments meted out to them, allows us to suppose that they derive a great deal of comfort and consolation from their imagination, that they enjoy their madness sufficiently to endure the thought that its validity does not extend beyond themselves. And, indeed, hallucinations, illusions, etc., are not a source of trifling pleasure. [...]  The case against the realistic attitude demands to be examined, following the case against the materialistic attitude. The latter, more poetic in fact than the former, admittedly implies on the part of man a kind of monstrous pride which, admittedly, is monstrous, but not a new and more complete decay. It should above all be viewed as a welcome reaction against certain ridiculous tendencies of spiritualism. Finally, it is not incompatible with a certain nobility of thought.   By contrast, the realistic attitude, inspired by positivism, from Saint Thomas Aquinas to Anatole France, clearly seems to me to be hostile to any intellectual or moral advancement. I loathe it, for it is made up of mediocrity, hate, and dull conceit. It is this attitude which today gives birth to these ridiculous ' metadata={'source': '../database/MANIFESTO_OF_SURREALISM.pdf', 'page': 0}\n"
     ]
    }
   ],
   "source": [
    "#load a pdf\"\n",
    "from langchain_community.document_loaders import PyPDFLoader\n",
    "# for csv : from langchain_community.document_loaders.csv_loader import CSVLoader\n",
    "\n",
    "\n",
    "# Create a document loader for attention_is_all_you_need.pdf\n",
    "loader = PyPDFLoader(\"database/MANIFESTO_OF_SURREALISM.pdf\")\n",
    "\n",
    "# Load the document\n",
    "data = loader.load()\n",
    "print(data[0])"
   ]
  },
  {
   "cell_type": "code",
   "execution_count": 5,
   "metadata": {},
   "outputs": [
    {
     "name": "stdout",
     "output_type": "stream",
     "text": [
      "page_content='Why SQLite Uses Bytecode (sqlite.org)' metadata={'source': 'https://news.ycombinator.com', 'title': 'Why SQLite Uses Bytecode (sqlite.org)', 'link': 'https://sqlite.org/draft/whybytecode.html', 'ranking': '1.'}\n",
      "{'source': 'https://news.ycombinator.com', 'title': 'Why SQLite Uses Bytecode (sqlite.org)', 'link': 'https://sqlite.org/draft/whybytecode.html', 'ranking': '1.'}\n"
     ]
    }
   ],
   "source": [
    "#load title from hacker news\n",
    "from langchain_community.document_loaders import HNLoader\n",
    "\n",
    "# Create a document loader for the top Hacker News stories\n",
    "loader = HNLoader('https://news.ycombinator.com')\n",
    "\n",
    "# Load the document\n",
    "data = loader.load()\n",
    "\n",
    "# Print the first document\n",
    "print(data[0])\n",
    "\n",
    "# Print the first document's metadata\n",
    "print(data[0].metadata)\n"
   ]
  },
  {
   "cell_type": "code",
   "execution_count": 1,
   "metadata": {},
   "outputs": [
    {
     "name": "stderr",
     "output_type": "stream",
     "text": [
      "Created a chunk of size 52, which is longer than the specified 24\n"
     ]
    },
    {
     "name": "stdout",
     "output_type": "stream",
     "text": [
      "['One machine can do the work of fifty ordinary humans', 'No machine can do the work of one extraordinary human']\n"
     ]
    }
   ],
   "source": [
    "#splitting with character text splitter\n",
    "\n",
    "# Import libary\n",
    "from langchain.text_splitter import CharacterTextSplitter\n",
    "\n",
    "quote = 'One machine can do the work of fifty ordinary humans. No machine can do the work of one extraordinary human.'\n",
    "chunk_size = 24\n",
    "chunk_overlap = 3\n",
    "\n",
    "# Create an instance of the splitter class\n",
    "splitter = CharacterTextSplitter(\n",
    "    separator = '.',     \n",
    "    chunk_size=chunk_size, \n",
    "    chunk_overlap=chunk_overlap\n",
    ")\n",
    "\n",
    "# Split the document and print the chunks\n",
    "docs = splitter.split_text(quote)\n",
    "print(docs)"
   ]
  },
  {
   "cell_type": "code",
   "execution_count": 3,
   "metadata": {},
   "outputs": [
    {
     "name": "stdout",
     "output_type": "stream",
     "text": [
      "['Words are flowing out', 'out like endless rain', 'rain into a paper cup,', 'they slither while they', 'they pass,', 'they slip away across', 'across the universe.']\n"
     ]
    }
   ],
   "source": [
    "# splitting with recursive text splitter\n",
    "from langchain.text_splitter import RecursiveCharacterTextSplitter\n",
    "\n",
    "quote = 'Words are flowing out like endless rain into a paper cup,\\nthey slither while they pass,\\nthey slip away across the universe.'\n",
    "chunk_size = 24\n",
    "chunk_overlap = 10\n",
    "\n",
    "# Create an instance of the splitter class\n",
    "splitter = RecursiveCharacterTextSplitter(\n",
    "    chunk_size=chunk_size, \n",
    "    chunk_overlap=chunk_overlap\n",
    ")\n",
    "\n",
    "# Split the document and print the chunks\n",
    "docs = splitter.split_text(quote)\n",
    "print(docs)"
   ]
  },
  {
   "cell_type": "code",
   "execution_count": 6,
   "metadata": {},
   "outputs": [
    {
     "name": "stdout",
     "output_type": "stream",
     "text": [
      "[Document(page_content=\"Les produits présentés dans cet article Yahoo sont sélectionnés par nos rédacteurs Shopping. Nous percevrons une commission sur les achats effectués via les liens de l'article. Le prix et la disponibilité des produits sont susceptibles d'évoluer\", metadata={'source': '../database/Barbie.html'}), Document(page_content=\". Le prix et la disponibilité des produits sont susceptibles d'évoluer.\\n\\nYahoo France Shopping\\n\\nPour les 65 ans de Barbie, Heinz lance la Barbicue, une mayonnaise... toute rose !\\n\\nA l'occasion des 65 ans de Barbie, Mattel s'associe à Heinz pour lancer une sauce un peu spéciale\", metadata={'source': '../database/Barbie.html'}), Document(page_content=\". Elle est rose et elle s'appelle la Barbicue. Miam !\\n\\nMargot Pyckaert\\n\\nLien copié\\n\\nVous pensiez que la folie Barbie était bel et bien finie ? Que nenni ! La poupée la plus célèbre du monde fête ses 65 ans cette année\", metadata={'source': '../database/Barbie.html'}), Document(page_content=\". Alors pour l'occasion, la marque Heinz a décidé de mettre les petits plats dans les grands. Moins d'un an après la sortie au cinéma du film Barbie, le spécialiste des sauces lance une toute nouvelle recette à l'image de la jolie blonde.\\n\\nNouvelle sauce à ajouter à votre frigo : la Barbicue\", metadata={'source': '../database/Barbie.html'}), Document(page_content='.\\n\\nNouvelle sauce à ajouter à votre frigo : la Barbicue. Cette sauce toute rose est une mayonnaise végétalienne, inspirée de la recette de la sauce barbecue et infusée à la betterave rouge pour lui donner sa couleur un peu spéciale', metadata={'source': '../database/Barbie.html'}), Document(page_content=\".\\n\\nView this post on Instagram\\n\\nA post shared by Heinz UK (@heinz_uk)\\n\\nLa sauce Barbicue est disponible en édition limitée, puisqu'elle n'a été produite qu'en 5000 exemplaires\", metadata={'source': '../database/Barbie.html'}), Document(page_content=\". Pour l'heure, elle est uniquement en vente au Royaume-Uni et en Espagne sur les sites officiels de Heinz, au doux prix de 3,50€. Pour les voyageurs qui nous lisent : quelques exemplaires seront également disponibles dans certaines boutiques de ces deux pays\", metadata={'source': '../database/Barbie.html'}), Document(page_content='. Pour les autres, promis, on sera les premiers à vous prévenir si la sauce Barbicue débarque en France ! En attendant, espérons que la mayonnaise va prendre..', metadata={'source': '../database/Barbie.html'}), Document(page_content=\".\\n\\nLire aussi :\\n\\nAirTag : le traqueur d'Apple est de retour à son prix le plus bas sur Amazon\\n\\nStar de TikTok et victime de son succès, ce masque capillaire Shiseido est enfin de retour sur Amazon\\n\\nNike : ces trois paires ultra-tendances passent à moins de 60 euros sur le site de la marque\\n\\nPUBLICITÉ\\n\\nPUBLICITÉ\\n\\nPUBLICITÉ\\n\\nPUBLICITÉ\\n\\nPUBLICITÉ\\n\\nPUBLICITÉ\\n\\nPUBLICITÉ\\n\\nPUBLICITÉ\\n\\nPUBLICITÉ\\n\\nArticle suivantAnnonce\\n\\nArticle suivantAnnonce\\n\\nArticle suivantAnnonce\\n\\nArticle suivantAnnonce\\n\\nDerniers articles\\n\\nCloserDoully gravement malade : ses confidences choc qui forcent le respect dans Sept à HuitInterrogée dans Sept à Huit, Doully est revenue sur son passé dans la drogue\", metadata={'source': '../database/Barbie.html'}), Document(page_content='. Un témoignage très émouvant.il y a un jour\\n\\nLe HuffPostLéa Salamé estime qu’arrêter l’alcool rend «\\xa0chiant\\xa0», des expertes en santé publique lui répondentSur le plateau de « Quelle Époque ! », Léa Salamé a affirmé en riant qu’Artus était « devenu chiant » parce qu’il avait arrêté de boire', metadata={'source': '../database/Barbie.html'}), Document(page_content='. Une blague loin d’être anodine, comme en témoignent personnes sobres et expertes en santé publique', metadata={'source': '../database/Barbie.html'}), Document(page_content=\".il y a 18 heures\\n\\nAd•Expert MarketPourquoi cette publicité\\xa0?Avis sur l’annoncePourquoi n'appréciez-vous pas cette annonce\\xa0?Je la trouve choquanteElle ne me concerne pasJe n’arrête pas de la voirAutreSoumettreMerci pour vos commentaires\", metadata={'source': '../database/Barbie.html'}), Document(page_content='. Nous retirerons cette annonce et apporterons des modifications en conséquence.PublicitéBruxelles-capitale: Cette astuce pour protéger votre..', metadata={'source': '../database/Barbie.html'}), Document(page_content='.PublicitéBruxelles-capitale: Cette astuce pour protéger votre...\\n\\nLe HuffPostLigue 1\\xa0: Le PSG sacré champion de France pour la douzième fois de son histoireGrâce à la victoire de l’OL sur Monaco, le club de la capitale remporte le titre pour la troisième fois consécutive.il y a 2 jours\\n\\n20minutes', metadata={'source': '../database/Barbie.html'}), Document(page_content='.frPSG\\xa0: Records et stats de folie… La saison du champion de France en chiffresFootball - Paris a été sacré en Ligue 1 ce dimanche pour la douzième fois dans son histoireil y a 2 jours\\n\\nBFMTV\"Scooby-Doo\": une nouvelle série en live-action en préparation sur NetflixUne série en prises de vues réelles sur la célèbre équipe d\\'enquêteurs menée par le chien gaffeur Scooby-Doo est en préparation sur Netflix', metadata={'source': '../database/Barbie.html'}), Document(page_content=\".il y a 8 heures\\n\\nAd•Panneaux SolairesPourquoi cette publicité\\xa0?Avis sur l’annoncePourquoi n'appréciez-vous pas cette annonce\\xa0?Je la trouve choquanteElle ne me concerne pasJe n’arrête pas de la voirAutreSoumettreMerci pour vos commentaires\", metadata={'source': '../database/Barbie.html'}), Document(page_content=\". Nous retirerons cette annonce et apporterons des modifications en conséquence.PublicitéLes prix des panneaux solaires n'ont jamais été aussi bas..\", metadata={'source': '../database/Barbie.html'}), Document(page_content='.Voici pourquoi les panneaux solaires n’ont jamais été aussi bon marché\\n\\nFemme ActuelleCette routine très simple à mettre en place limiterait de 39% le risque de maladie cardiovasculairePour lutter contre les maladies cardiovasculaires, des chercheurs australiens estiment qu’il faudrait adopter une habitude pour réduire de 39% le risque de décès par maladies cardiovasculaires', metadata={'source': '../database/Barbie.html'}), Document(page_content='.il y a un jour\\n\\nVoiciVoici - \"Elle lui crie de sortir…\" : ces révélations fracassantes sur la relation entre Meghan Markle et le prince HarryLe programme s\\'annonce chargé pour le prince Harry ces prochaines semaines', metadata={'source': '../database/Barbie.html'}), Document(page_content=\". De retour à Londres le 8 mai 2024 pour un événement cher à son cœur, le mari de Meghan Markle ne devrait cependant pas s'attarder au Royaume-Uni...il y a un jour\\n\\nELLE\", metadata={'source': '../database/Barbie.html'}), Document(page_content='...il y a un jour\\n\\nELLE.frTribune - 100 hommes manifestent leur soutien au mouvement #MeTooMathématicien et compagnon d’Anouk Grinberg, Michel Broué a mobilisé une centaine d’hommes pour soutenir le combat des femmes contre les violences sexistes et sexuelles', metadata={'source': '../database/Barbie.html'}), Document(page_content=\".il y a 10 heures\\n\\nAd•FinishthegamePourquoi cette publicité\\xa0?Avis sur l’annoncePourquoi n'appréciez-vous pas cette annonce\\xa0?Je la trouve choquanteElle ne me concerne pasJe n’arrête pas de la voirAutreSoumettreMerci pour vos commentaires\", metadata={'source': '../database/Barbie.html'}), Document(page_content='. Nous retirerons cette annonce et apporterons des modifications en conséquence.PublicitéGagner de l’argent en ligne en 2023 : 27 idées rentables..', metadata={'source': '../database/Barbie.html'}), Document(page_content='.PublicitéGagner de l’argent en ligne en 2023 : 27 idées rentables...\\n\\nBFMTVHaute-Saône: un encadrant du SNU soupçonné d\\'agressions sexuelles sur des mineurs mis à piedSept garçons ont dénoncé \"des gestes inadaptés commis sur leur personne\" au cours d\\'une session qui a débuté le lundi 15 avril', metadata={'source': '../database/Barbie.html'}), Document(page_content=\". Trois plaintes ont été déposées.il y a 6 heures\\n\\nELLE.frEn total look cuir, Anne Hathaway déringardise ce détail modeLe 28 avril, l’actrice américaine a misé sur un look masculin-féminin à l’occasion de sa venue à la projection du film « L'idée d'être avec toi »\", metadata={'source': '../database/Barbie.html'}), Document(page_content=\". S’autorisant à la fantaisie de la cravate.il y a un jour\\n\\nAFPArnaud Lagardère, héritier déchu d'un empire françaisLa chute continue\", metadata={'source': '../database/Barbie.html'}), Document(page_content=\".il y a un jour\\n\\nAd•ING BelgiquePourquoi cette publicité\\xa0?Avis sur l’annoncePourquoi n'appréciez-vous pas cette annonce\\xa0?Je la trouve choquanteElle ne me concerne pasJe n’arrête pas de la voirAutreSoumettreMerci pour vos commentaires\", metadata={'source': '../database/Barbie.html'}), Document(page_content=\". Nous retirerons cette annonce et apporterons des modifications en conséquence.PublicitéLe pack ING Do More 18-2550 € sur votre premiercompte à vue ING? Action jusqu'au 30/04, info&conditions sur ing.be\\n\\nfemina\", metadata={'source': '../database/Barbie.html'}), Document(page_content='.be\\n\\nfemina.frPartage(s) – Steve, 42 ans, a fait partie d’une secte pendant deux ans : « Ils se présentaient comme une association solidaire, culturelle et philosophique »Steve* a 42 ans', metadata={'source': '../database/Barbie.html'}), Document(page_content='. Après un divorce houleux et une perte de sens, il a retrouvé un peu de lumière auprès d’une « association » culturelle et philosophique', metadata={'source': '../database/Barbie.html'}), Document(page_content=\".il y a 21 heures\\n\\nYahoo France ShoppingCette brosse retire jusqu'à 95% des poils morts de vos animaux et a déjà fait ronronner plus de 11 000 utilisateursCette brosse, adoptée par plus de 11 000 utilisateurs, est idéale pour les chats comme pour les chiens\", metadata={'source': '../database/Barbie.html'}), Document(page_content='. Retirez près de 95% de leur poils morts en un rien de temps grâce à elle.il y a un jour\\n\\nFemme ActuelleNos idées de recettes familiales à moins de 3 € pour le dînerLes prix des produits alimentaires ont explosé ces dernières années', metadata={'source': '../database/Barbie.html'}), Document(page_content='. C’est donc l’occasion de réapprendre à cuisiner avec des aliments bon marché, et de les décliner très simplement pour toute la famille', metadata={'source': '../database/Barbie.html'}), Document(page_content=\".il y a 22 heures\\n\\nAd•Telenet BusinessPourquoi cette publicité\\xa0?Avis sur l’annoncePourquoi n'appréciez-vous pas cette annonce\\xa0?Je la trouve choquanteElle ne me concerne pasJe n’arrête pas de la voirAutreSoumettreMerci pour vos commentaires\", metadata={'source': '../database/Barbie.html'}), Document(page_content='. Nous retirerons cette annonce et apporterons des modifications en conséquence', metadata={'source': '../database/Barbie.html'}), Document(page_content='.PublicitéPas de stress, votre société reste connectée !Optez pour Business Fibernet\\n\\nPurepeopleDisparition inquiétante de Loana : les pompiers et la police mobilisés, une enquête pour séquestration et agression ouverteDepuis qu\\'elle a été révélée au grand public en 2001, lors de sa participation à \"Loft Story\", Loana a vu sa vie basculer', metadata={'source': '../database/Barbie.html'}), Document(page_content='...il y a 6 heures\\n\\nPurepeople\"J\\'en ai 8 sur 3 continents\" : Omar Sy fait une confidence inattendue sur sa vie privéeOmar Sy est un des acteurs les plus populaires en France. Le héros du film \"Intouchables\" se confie pour la première fois..', metadata={'source': '../database/Barbie.html'}), Document(page_content=\"...il y a 2 jours\\n\\nCloser“Trierweiler… une grand-mère” : Inès Reg adresse un énième tacle à l’ex-Première dame en direct dans QuotidienDans l'émission Quotidien ce lundi 29 avril, Inès Reg est revenue sur son ancien clash avec Valérie Trierweiler\", metadata={'source': '../database/Barbie.html'}), Document(page_content=\". L'occasion pour l'humoriste de critiquer de nouveau l'ancienne première dame\", metadata={'source': '../database/Barbie.html'}), Document(page_content=\".il y a 6 heures\\n\\nAd•Nouveaux monte-escaliers | Liens de recherchePourquoi cette publicité\\xa0?Avis sur l’annoncePourquoi n'appréciez-vous pas cette annonce\\xa0?Je la trouve choquanteElle ne me concerne pasJe n’arrête pas de la voirAutreSoumettreMerci pour vos commentaires\", metadata={'source': '../database/Barbie.html'}), Document(page_content='. Nous retirerons cette annonce et apporterons des modifications en conséquence.PublicitéIl n’est pas nécessaire d’installer de nouveaux..', metadata={'source': '../database/Barbie.html'}), Document(page_content='.PublicitéIl n’est pas nécessaire d’installer de nouveaux...\\n\\nPureCharts\"Tu vas fermer ta gueule\" : malmené dans \"Danse avec les stars\", un candidat balance !La saison 13 de \"Danse avec les stars\" s\\'est achevée avec la victoire de Natasha St-Pier vendredi sur TF1', metadata={'source': '../database/Barbie.html'}), Document(page_content='. Une expérience inoubliable, certes, mais pas pour tous les candidats. Un ancien finaliste de l\\'émission dézingue aujourd\\'hui la production, anecdotes à l\\'appui : \"Ce ne sont pas les gens les plus bienveillants du PAF\"', metadata={'source': '../database/Barbie.html'}), Document(page_content='.il y a 23 heures\\n\\nProgramme TV Omar Sy sincère sur ses rapports avec Fred Testot : \"C\\'était pénible à un moment mais...\"Invité de \"Clique\" (Canal+) ce lundi 29 avril, Omar Sy a évoqué l\\'évolution de sa relation avec son ancien complice Fred Testot.il y a 8 heures\\n\\nCloser\"J\\'ai toujours essayé..', metadata={'source': '../database/Barbie.html'}), Document(page_content='.il y a 8 heures\\n\\nCloser\"J\\'ai toujours essayé...\" : Albert de Monaco transparent sur les rumeurs d\\'homosexualité et de bisexualité qui l\\'entouraientDans le magazine Monaco, la saga des Grimaldi, diffusé sur C8, vendredi 26 avril 2024, la vie amoureuse d\\'Albert de Monaco a été épluchée', metadata={'source': '../database/Barbie.html'}), Document(page_content=\". L'occasion de revenir sur les rumeurs d'homosexualité et de bisexualité auxquelles il a dû faire face.il y a 9 heures\", metadata={'source': '../database/Barbie.html'})]\n"
     ]
    }
   ],
   "source": [
    "# Load the HTML document into memory\n",
    "from langchain_community.document_loaders import UnstructuredHTMLLoader\n",
    "loader = UnstructuredHTMLLoader('database/Barbie.html')\n",
    "data = loader.load()\n",
    "\n",
    "# Define variables\n",
    "chunk_size = 300    \n",
    "chunk_overlap = 100\n",
    "\n",
    "# Split the HTML\n",
    "splitter = RecursiveCharacterTextSplitter(\n",
    "    chunk_size=chunk_size,\n",
    "    chunk_overlap=chunk_overlap,\n",
    "    separators=['.'])\n",
    "\n",
    "docs = splitter.split_documents(data)\n",
    "print(docs)"
   ]
  }
 ],
 "metadata": {
  "kernelspec": {
   "display_name": "base",
   "language": "python",
   "name": "python3"
  },
  "language_info": {
   "codemirror_mode": {
    "name": "ipython",
    "version": 3
   },
   "file_extension": ".py",
   "mimetype": "text/x-python",
   "name": "python",
   "nbconvert_exporter": "python",
   "pygments_lexer": "ipython3",
   "version": "3.11.7"
  }
 },
 "nbformat": 4,
 "nbformat_minor": 2
}
